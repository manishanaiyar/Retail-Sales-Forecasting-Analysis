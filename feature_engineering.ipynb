{
 "cells": [
  {
   "cell_type": "code",
   "execution_count": 1,
   "id": "72bf4afc-e835-4c30-ada9-f832c5b48c1b",
   "metadata": {},
   "outputs": [
    {
     "name": "stdout",
     "output_type": "stream",
     "text": [
      "✅ Feature engineering complete. Files saved:\n",
      "- retail_data_featured.csv\n",
      "- monthly_sales.csv\n"
     ]
    }
   ],
   "source": [
    "# feature_engineering.py\n",
    "\n",
    "import pandas as pd\n",
    "\n",
    "# Load cleaned EDA dataset\n",
    "df = pd.read_csv(\"retail_data_final.csv\", parse_dates=[\"Order Date\", \"Ship Date\"])\n",
    "\n",
    "# Drop irrelevant or zero-value columns\n",
    "df = df.drop(columns=[\"Deaths_per_million\"], errors=\"ignore\")\n",
    "\n",
    "# --- Feature Engineering ---\n",
    "\n",
    "# Extract week, month, year, weekday, and day name from Order Date\n",
    "df[\"Order_Week\"] = df[\"Order Date\"].dt.isocalendar().week.astype(str)\n",
    "df[\"Order_Year\"] = df[\"Order Date\"].dt.year\n",
    "df[\"Order_Month\"] = df[\"Order Date\"].dt.month\n",
    "df[\"Day_Of_Week\"] = df[\"Order Date\"].dt.dayofweek\n",
    "\n",
    "df[\"Day_Name\"] = df[\"Order Date\"].dt.day_name()\n",
    "df[\"is_weekend\"] = df[\"Day_Of_Week\"].isin([5, 6]).astype(int)\n",
    "\n",
    "# Flag holidays\n",
    "df[\"is_holiday\"] = df[\"holiday_name\"].notna().astype(int)\n",
    "\n",
    "# Monthly Aggregation for Forecasting\n",
    "df_monthly = df.groupby([\"Order_Year\", \"Order_Month\"]).agg({\"Sales\": \"sum\"}).reset_index()\n",
    "df_monthly[\"Date\"] = pd.to_datetime(df_monthly[\"Order_Year\"].astype(str) + \"-\" + df_monthly[\"Order_Month\"].astype(str) + \"-01\")\n",
    "df_monthly = df_monthly.sort_values(\"Date\")\n",
    "\n",
    "# Save updated dataset and monthly aggregates\n",
    "df.to_csv(\"retail_data_featured.csv\", index=False)\n",
    "df_monthly.to_csv(\"monthly_sales.csv\", index=False)\n",
    "\n",
    "print(\"✅ Feature engineering complete. Files saved:\")\n",
    "print(\"- retail_data_featured.csv\")\n",
    "print(\"- monthly_sales.csv\")\n"
   ]
  },
  {
   "cell_type": "code",
   "execution_count": null,
   "id": "c186cf15-fdc2-4c02-a5e5-88d4b47b1e8b",
   "metadata": {},
   "outputs": [],
   "source": []
  }
 ],
 "metadata": {
  "kernelspec": {
   "display_name": "Python [conda env:base] *",
   "language": "python",
   "name": "conda-base-py"
  },
  "language_info": {
   "codemirror_mode": {
    "name": "ipython",
    "version": 3
   },
   "file_extension": ".py",
   "mimetype": "text/x-python",
   "name": "python",
   "nbconvert_exporter": "python",
   "pygments_lexer": "ipython3",
   "version": "3.12.7"
  }
 },
 "nbformat": 4,
 "nbformat_minor": 5
}
